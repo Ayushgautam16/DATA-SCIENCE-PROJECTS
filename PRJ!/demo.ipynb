{
 "cells": [],
 "metadata": {
  "kernelspec": {
   "display_name": "your_env_name",
   "language": "python",
   "name": "your_env_name"
  },
  "language_info": {
   "name": "python",
   "version": "3.12.0"
  }
 },
 "nbformat": 4,
 "nbformat_minor": 2
}
